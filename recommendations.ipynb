{
  "nbformat": 4,
  "nbformat_minor": 0,
  "metadata": {
    "colab": {
      "provenance": []
    },
    "kernelspec": {
      "name": "python3",
      "display_name": "Python 3"
    },
    "language_info": {
      "name": "python"
    }
  },
  "cells": [
    {
      "cell_type": "code",
      "source": [
        "import json\n",
        "from collections import defaultdict\n",
        "\n",
        "# Step 1: Analyze Data\n",
        "def analyze_performance(current_data, historical_data):\n",
        "    topic_performance = defaultdict(lambda: {\"correct\": 0, \"total\": 0})\n",
        "\n",
        "    # Analyze current quiz\n",
        "    for q in current_data[\"questions\"]:\n",
        "        topic_performance[q[\"topic\"]][\"total\"] += 1\n",
        "        if q[\"correct\"]:\n",
        "            topic_performance[q[\"topic\"]][\"correct\"] += 1\n",
        "\n",
        "    # Analyze historical quizzes\n",
        "    for quiz in historical_data[\"quizzes\"]:\n",
        "        for question_id, correct in quiz[\"responses\"].items():\n",
        "            # Mock: Assuming topic mapping (replace with actual mappings if available)\n",
        "            topic = \"Unknown\"\n",
        "            topic_performance[topic][\"total\"] += 1\n",
        "            if correct:\n",
        "                topic_performance[topic][\"correct\"] += 1\n",
        "\n",
        "    return topic_performance\n",
        "\n",
        "# Step 2: Generate Insights\n",
        "def generate_insights(topic_performance):\n",
        "    insights = []\n",
        "    for topic, data in topic_performance.items():\n",
        "        accuracy = (data[\"correct\"] / data[\"total\"]) * 100 if data[\"total\"] > 0 else 0\n",
        "        if accuracy < 50:\n",
        "            insights.append(f\"Weak in {topic}: Focus on this topic to improve accuracy.\")\n",
        "        elif accuracy > 80:\n",
        "            insights.append(f\"Strong in {topic}: Keep up the great work!\")\n",
        "    return insights\n",
        "\n",
        "# Step 3: Create Recommendations\n",
        "def create_recommendations(insights):\n",
        "    recommendations = [\n",
        "        \"Revise topics with low accuracy.\",\n",
        "        \"Practice more questions of varying difficulty levels.\",\n",
        "        \"Focus on weak areas identified in the analysis.\"\n",
        "    ]\n",
        "    return recommendations + insights\n"
      ],
      "metadata": {
        "id": "XeDkTqxgrj_a"
      },
      "execution_count": 4,
      "outputs": []
    },
    {
      "cell_type": "code",
      "source": [
        "current_quiz_data_1 = {\n",
        "    \"user_id\": 1,\n",
        "    \"questions\": [\n",
        "        {\"question_id\": 101, \"topic\": \"Physics\", \"difficulty\": \"Hard\", \"correct\": False},\n",
        "        {\"question_id\": 102, \"topic\": \"Biology\", \"difficulty\": \"Medium\", \"correct\": True},\n",
        "        {\"question_id\": 103, \"topic\": \"Chemistry\", \"difficulty\": \"Easy\", \"correct\": False},\n",
        "    ]\n",
        "}\n",
        "\n",
        "historical_quiz_data_1 = {\n",
        "    \"user_id\": 1,\n",
        "    \"quizzes\": [\n",
        "        {\n",
        "            \"quiz_id\": 1,\n",
        "            \"score\": 70,\n",
        "            \"responses\": {\n",
        "                \"101\": False, \"102\": True, \"103\": False\n",
        "            }\n",
        "        },\n",
        "        {\n",
        "            \"quiz_id\": 2,\n",
        "            \"score\": 60,\n",
        "            \"responses\": {\n",
        "                \"104\": False, \"105\": True, \"106\": True\n",
        "            }\n",
        "        }\n",
        "    ]\n",
        "}\n",
        "\n",
        "# Execution for Sample Input 1\n",
        "performance_1 = analyze_performance(current_quiz_data_1, historical_quiz_data_1)\n",
        "insights_1 = generate_insights(performance_1)\n",
        "recommendations_1 = create_recommendations(insights_1)\n",
        "\n",
        "print(\"Sample Input 1 - Personalized Recommendations:\")\n",
        "for rec in recommendations_1:\n",
        "    print(f\"- {rec}\")"
      ],
      "metadata": {
        "colab": {
          "base_uri": "https://localhost:8080/"
        },
        "id": "IrcolviIrrZU",
        "outputId": "0d85193c-6726-4a04-9744-29f163287f02"
      },
      "execution_count": 5,
      "outputs": [
        {
          "output_type": "stream",
          "name": "stdout",
          "text": [
            "Sample Input 1 - Personalized Recommendations:\n",
            "- Revise topics with low accuracy.\n",
            "- Practice more questions of varying difficulty levels.\n",
            "- Focus on weak areas identified in the analysis.\n",
            "- Weak in Physics: Focus on this topic to improve accuracy.\n",
            "- Strong in Biology: Keep up the great work!\n",
            "- Weak in Chemistry: Focus on this topic to improve accuracy.\n"
          ]
        }
      ]
    },
    {
      "cell_type": "code",
      "source": [
        "current_quiz_data_2 = {\n",
        "    \"user_id\": 2,\n",
        "    \"questions\": [\n",
        "        {\"question_id\": 201, \"topic\": \"Math\", \"difficulty\": \"Medium\", \"correct\": True},\n",
        "        {\"question_id\": 202, \"topic\": \"Physics\", \"difficulty\": \"Hard\", \"correct\": True},\n",
        "        {\"question_id\": 203, \"topic\": \"Chemistry\", \"difficulty\": \"Easy\", \"correct\": True},\n",
        "    ]\n",
        "}\n",
        "\n",
        "historical_quiz_data_2 = {\n",
        "    \"user_id\": 2,\n",
        "    \"quizzes\": [\n",
        "        {\n",
        "            \"quiz_id\": 3,\n",
        "            \"score\": 85,\n",
        "            \"responses\": {\"201\": True, \"202\": True, \"203\": True}\n",
        "        },\n",
        "        {\n",
        "            \"quiz_id\": 4,\n",
        "            \"score\": 90,\n",
        "            \"responses\": {\"204\": True, \"205\": True, \"206\": True}\n",
        "        }\n",
        "    ]\n",
        "}\n",
        "\n",
        "# Execution for Sample Input 2\n",
        "performance_2 = analyze_performance(current_quiz_data_2, historical_quiz_data_2)\n",
        "insights_2 = generate_insights(performance_2)\n",
        "recommendations_2 = create_recommendations(insights_2)\n",
        "\n",
        "print(\"\\nSample Input 2 - Personalized Recommendations:\")\n",
        "for rec in recommendations_2:\n",
        "    print(f\"- {rec}\")"
      ],
      "metadata": {
        "colab": {
          "base_uri": "https://localhost:8080/"
        },
        "id": "BmRsB8ujruf0",
        "outputId": "be07028c-29e8-4f24-dd8d-7a34f9bbc46c"
      },
      "execution_count": 6,
      "outputs": [
        {
          "output_type": "stream",
          "name": "stdout",
          "text": [
            "\n",
            "Sample Input 2 - Personalized Recommendations:\n",
            "- Revise topics with low accuracy.\n",
            "- Practice more questions of varying difficulty levels.\n",
            "- Focus on weak areas identified in the analysis.\n",
            "- Strong in Math: Keep up the great work!\n",
            "- Strong in Physics: Keep up the great work!\n",
            "- Strong in Chemistry: Keep up the great work!\n",
            "- Strong in Unknown: Keep up the great work!\n"
          ]
        }
      ]
    },
    {
      "cell_type": "code",
      "source": [
        "current_quiz_data_3 = {\n",
        "    \"user_id\": 3,\n",
        "    \"questions\": [\n",
        "        {\"question_id\": 301, \"topic\": \"Biology\", \"difficulty\": \"Hard\", \"correct\": False},\n",
        "        {\"question_id\": 302, \"topic\": \"Math\", \"difficulty\": \"Medium\", \"correct\": False},\n",
        "        {\"question_id\": 303, \"topic\": \"Physics\", \"difficulty\": \"Easy\", \"correct\": False},\n",
        "    ]\n",
        "}\n",
        "\n",
        "historical_quiz_data_3 = {\n",
        "    \"user_id\": 3,\n",
        "    \"quizzes\": [\n",
        "        {\n",
        "            \"quiz_id\": 5,\n",
        "            \"score\": 50,\n",
        "            \"responses\": {\"301\": False, \"302\": False, \"303\": False}\n",
        "        },\n",
        "        {\n",
        "            \"quiz_id\": 6,\n",
        "            \"score\": 45,\n",
        "            \"responses\": {\"304\": False, \"305\": False, \"306\": False}\n",
        "        }\n",
        "    ]\n",
        "}\n",
        "\n",
        "# Execution for Sample Input 3\n",
        "performance_3 = analyze_performance(current_quiz_data_3, historical_quiz_data_3)\n",
        "insights_3 = generate_insights(performance_3)\n",
        "recommendations_3 = create_recommendations(insights_3)\n",
        "\n",
        "print(\"\\nSample Input 3 - Personalized Recommendations:\")\n",
        "for rec in recommendations_3:\n",
        "    print(f\"- {rec}\")"
      ],
      "metadata": {
        "colab": {
          "base_uri": "https://localhost:8080/"
        },
        "id": "w7iLjUEyrxnx",
        "outputId": "ed8e21a9-7f76-44a9-f39e-a1031558969e"
      },
      "execution_count": 7,
      "outputs": [
        {
          "output_type": "stream",
          "name": "stdout",
          "text": [
            "\n",
            "Sample Input 3 - Personalized Recommendations:\n",
            "- Revise topics with low accuracy.\n",
            "- Practice more questions of varying difficulty levels.\n",
            "- Focus on weak areas identified in the analysis.\n",
            "- Weak in Biology: Focus on this topic to improve accuracy.\n",
            "- Weak in Math: Focus on this topic to improve accuracy.\n",
            "- Weak in Physics: Focus on this topic to improve accuracy.\n",
            "- Weak in Unknown: Focus on this topic to improve accuracy.\n"
          ]
        }
      ]
    }
  ]
}